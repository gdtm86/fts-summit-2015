{
 "cells": [
  {
   "cell_type": "markdown",
   "metadata": {
    "slideshow": {
     "slide_type": "slide"
    }
   },
   "source": [
    "#Introduction to Machine Learning - FCE Summit 2015 - Las Vegas\n",
    "\n",
    "\n",
    "> ## 1. Explore the data set\n",
    "> ## 2. Linear Regression with one feature/variable\n",
    "> ## 3. Linear Regression with two features/variables\n",
    "\n",
    "\n",
    "## 1. Explore the data set\n",
    "\n",
    "### Portland, Oregon housing price data\n",
    "\n",
    "\n",
    "> housing_prices.txt contains prices of houses from Portland,Oregon. First column is size of the house, second column is the number of bedrooms and the third column is price of the house. \n",
    "\n",
    "### Housing Price data sample\n",
    "\n",
    "\n",
    "| house_size    | number_of_bedrooms | house_price  |\n",
    "|:-------------:|:------------------:|:------------:|\n",
    "| 2104\t        |                  3 |\t     399900 |    \n",
    "| 1600\t        |                  3 |\t     329900 |\n",
    "| 2400\t        |                  3 |\t     369000 | \n",
    "| 1427\t        |                  3 |\t     198999 | \n",
    "| 1416\t        |                  2 |\t     232000 | \n",
    "| 3000\t        |                  4 |\t     539900 | \n",
    "| 1985\t        |                  4 |\t     299900 | \n",
    "\n",
    "\n",
    "\n",
    "We will now perform the following steps\n",
    "\n",
    "1. Load the data set\n",
    "2. Plot the data set\n",
    "\n",
    "\n",
    "File location: \"/Users/gmedasani/Documents/cloudera/conferences/FCE-Summit-2015/data/final/housing_prices.txt\"\n",
    "\n",
    "Code: \n",
    "\n",
    "```python\n",
    "import pandas as pd\n",
    "import numpy as np\n",
    "import matplotlib.pyplot as plt\n",
    "fileLocation = '/Users/gmedasani/Documents/cloudera/conferences/FCE-Summit-2015/data/final/housing_prices.txt'\n",
    "housingPricesData = pd.read_csv(fileLocation)\n",
    "```\n"
   ]
  },
  {
   "cell_type": "code",
   "execution_count": 282,
   "metadata": {
    "collapsed": false
   },
   "outputs": [],
   "source": [
    "%matplotlib inline\n",
    "import pandas as pd\n",
    "import numpy as np\n",
    "import matplotlib.pyplot as plt\n",
    "fileLocation = '/Users/gmedasani/Documents/cloudera/conferences/FCE-Summit-2015/data/final/housing_prices.txt'\n",
    "housingPricesData = pd.read_csv(fileLocation)"
   ]
  },
  {
   "cell_type": "code",
   "execution_count": 283,
   "metadata": {
    "collapsed": false
   },
   "outputs": [
    {
     "data": {
      "text/plain": [
       "pandas.core.frame.DataFrame"
      ]
     },
     "execution_count": 283,
     "metadata": {},
     "output_type": "execute_result"
    }
   ],
   "source": [
    "type(housingPricesData)"
   ]
  },
  {
   "cell_type": "code",
   "execution_count": 284,
   "metadata": {
    "collapsed": false
   },
   "outputs": [
    {
     "data": {
      "text/plain": [
       "Index([u'house_size', u'number_of_bedrooms', u'house_price'], dtype='object')"
      ]
     },
     "execution_count": 284,
     "metadata": {},
     "output_type": "execute_result"
    }
   ],
   "source": [
    "housingPricesData.columns"
   ]
  },
  {
   "cell_type": "code",
   "execution_count": 285,
   "metadata": {
    "collapsed": false
   },
   "outputs": [
    {
     "data": {
      "text/plain": [
       "<bound method DataFrame.describe of     house_size  number_of_bedrooms  house_price\n",
       "0         2104                   3       399900\n",
       "1         1600                   3       329900\n",
       "2         2400                   3       369000\n",
       "3         1416                   2       232000\n",
       "4         3000                   4       539900\n",
       "5         1985                   4       299900\n",
       "6         1534                   3       314900\n",
       "7         1427                   3       198999\n",
       "8         1380                   3       212000\n",
       "9         1494                   3       242500\n",
       "10        1940                   4       239999\n",
       "11        2000                   3       347000\n",
       "12        1890                   3       329999\n",
       "13        4478                   5       699900\n",
       "14        1268                   3       259900\n",
       "15        2300                   4       449900\n",
       "16        1320                   2       299900\n",
       "17        1236                   3       199900\n",
       "18        2609                   4       499998\n",
       "19        3031                   4       599000\n",
       "20        1767                   3       252900\n",
       "21        1888                   2       255000\n",
       "22        1604                   3       242900\n",
       "23        1962                   4       259900\n",
       "24        3890                   3       573900\n",
       "25        1100                   3       249900\n",
       "26        1458                   3       464500\n",
       "27        2526                   3       469000\n",
       "28        2200                   3       475000\n",
       "29        2637                   3       299900\n",
       "30        1839                   2       349900\n",
       "31        1000                   1       169900\n",
       "32        2040                   4       314900\n",
       "33        3137                   3       579900\n",
       "34        1811                   4       285900\n",
       "35        1437                   3       249900\n",
       "36        1239                   3       229900\n",
       "37        2132                   4       345000\n",
       "38        4215                   4       549000\n",
       "39        2162                   4       287000\n",
       "40        1664                   2       368500\n",
       "41        2238                   3       329900\n",
       "42        2567                   4       314000\n",
       "43        1200                   3       299000\n",
       "44         852                   2       179900\n",
       "45        1852                   4       299900\n",
       "46        1203                   3       239500>"
      ]
     },
     "execution_count": 285,
     "metadata": {},
     "output_type": "execute_result"
    }
   ],
   "source": [
    "housingPricesData.describe"
   ]
  },
  {
   "cell_type": "code",
   "execution_count": 286,
   "metadata": {
    "collapsed": false
   },
   "outputs": [
    {
     "data": {
      "text/plain": [
       "(47, 3)"
      ]
     },
     "execution_count": 286,
     "metadata": {},
     "output_type": "execute_result"
    }
   ],
   "source": [
    "housingPricesData.shape"
   ]
  },
  {
   "cell_type": "code",
   "execution_count": 287,
   "metadata": {
    "collapsed": false
   },
   "outputs": [
    {
     "data": {
      "text/plain": [
       "house_size    2000.680851\n",
       "dtype: float64"
      ]
     },
     "execution_count": 287,
     "metadata": {},
     "output_type": "execute_result"
    }
   ],
   "source": [
    "np.mean(housingPricesData.iloc[:,[0]])"
   ]
  },
  {
   "cell_type": "code",
   "execution_count": 288,
   "metadata": {
    "collapsed": false
   },
   "outputs": [
    {
     "data": {
      "text/plain": [
       "number_of_bedrooms    3.170213\n",
       "dtype: float64"
      ]
     },
     "execution_count": 288,
     "metadata": {},
     "output_type": "execute_result"
    }
   ],
   "source": [
    "np.mean(housingPricesData.iloc[:,[1]])"
   ]
  },
  {
   "cell_type": "code",
   "execution_count": 289,
   "metadata": {
    "collapsed": false
   },
   "outputs": [
    {
     "data": {
      "text/plain": [
       "house_price    340412.659574\n",
       "dtype: float64"
      ]
     },
     "execution_count": 289,
     "metadata": {},
     "output_type": "execute_result"
    }
   ],
   "source": [
    "np.mean(housingPricesData.iloc[:,[2]])"
   ]
  },
  {
   "cell_type": "markdown",
   "metadata": {},
   "source": [
    "Plot the data set\n",
    "----------------\n",
    "\n",
    "File location: \"/Users/gmedasani/Documents/cloudera/conferences/FCE-Summit-2015/data/final/housing_prices.txt\"\n",
    "\n",
    "Code: \n",
    "\n",
    "```python\n",
    "import pandas as pd\n",
    "import numpy as np\n",
    "import matplotlib.pyplot as plt\n",
    "fileLocation = '/Users/gmedasani/Documents/cloudera/conferences/FCE-Summit-2015/data/final/housing_prices.txt'\n",
    "housingPricesData = pd.read_csv(fileLocation)\n",
    "# this allows plots to appear directly in the notebook\n",
    "```\n",
    "\n",
    "### Plot 1: Size of house vs. Price of house"
   ]
  },
  {
   "cell_type": "code",
   "execution_count": 290,
   "metadata": {
    "collapsed": false
   },
   "outputs": [
    {
     "data": {
      "image/png": "[encoded data removed]",
      "text/plain": [
       "<matplotlib.figure.Figure at 0x10c32da50>"
      ]
     },
     "metadata": {},
     "output_type": "display_data"
    }
   ],
   "source": [
    "plt.scatter(housingPricesData.iloc[:,0],housingPricesData.iloc[:,2])\n",
    "plt.xlabel('Size of house (Square feet)')\n",
    "plt.ylabel('Price of house (Dollars)')\n",
    "plt.grid(True)\n",
    "plt.show()"
   ]
  },
  {
   "cell_type": "markdown",
   "metadata": {},
   "source": [
    "### Plot 2: Number of bedrooms vs. Price of house\n"
   ]
  },
  {
   "cell_type": "code",
   "execution_count": 291,
   "metadata": {
    "collapsed": false
   },
   "outputs": [
    {
     "data": {
      "image/png": "[encoded data removed]",
      "text/plain": [
       "<matplotlib.figure.Figure at 0x10c3f44d0>"
      ]
     },
     "metadata": {},
     "output_type": "display_data"
    }
   ],
   "source": [
    "plt.scatter(housingPricesData.iloc[:,1],housingPricesData.iloc[:,2])\n",
    "plt.xlabel('Number of Bedrooms')\n",
    "plt.ylabel('Price of house (Dollars)')\n",
    "plt.grid(True)\n",
    "plt.show()"
   ]
  },
  {
   "cell_type": "markdown",
   "metadata": {},
   "source": [
    "\n",
    "## 2. Linear Regression with one variable/feature\n",
    "\n",
    "\n",
    "####1.   X = training features matrix \n",
    "####2.   y = training labels vector\n",
    "####3.   Theta = parameters vector\n",
    "\n",
    "Goal: Find theta parameters vector using Normal Equation Method on Least Squares Regression\n",
    "\n",
    "For this experiment, lets consider only one feature house_size to predict the price of house. \n",
    "\n",
    "Step 1: Create a function called normalEquation() that takes in X feature matrix and y label vector and returns a parameter vector.\n",
    "\n",
    "Reference-style: \n",
    "![alt text][normal-equation]\n",
    "\n",
    "[normal-equation]: https://github.com/gdtm86/fts-summit-2015/blob/master/images/normal-Equation.png \"Normal Equation\"\n",
    "\n",
    "![alt text](/Users/gmedasani/Documents/cloudera/conferences/FCE-Summit-2015/public-repo/fts-summit-2015/images/normal-Equation.png)\n"
   ]
  },
  {
   "cell_type": "code",
   "execution_count": 292,
   "metadata": {
    "collapsed": true
   },
   "outputs": [],
   "source": [
    "def normalEquation(X,y):\n",
    "    theta = (np.linalg.inv(np.dot(np.transpose(X),X))).dot(np.dot(np.transpose(X),y))\n",
    "    return theta"
   ]
  },
  {
   "cell_type": "markdown",
   "metadata": {},
   "source": [
    "### Create training features vector and training lables vectos\n",
    "\n",
    "1. Create feature vector\n",
    "2. Create labels vector"
   ]
  },
  {
   "cell_type": "code",
   "execution_count": 293,
   "metadata": {
    "collapsed": false
   },
   "outputs": [],
   "source": [
    "X = housingPricesData.iloc[:,[0]]\n",
    "y = housingPricesData.iloc[:,[2]]"
   ]
  },
  {
   "cell_type": "code",
   "execution_count": 294,
   "metadata": {
    "collapsed": false
   },
   "outputs": [
    {
     "data": {
      "text/plain": [
       "(47, 1)"
      ]
     },
     "execution_count": 294,
     "metadata": {},
     "output_type": "execute_result"
    }
   ],
   "source": [
    "X.shape"
   ]
  },
  {
   "cell_type": "code",
   "execution_count": 295,
   "metadata": {
    "collapsed": false
   },
   "outputs": [
    {
     "data": {
      "text/plain": [
       "(47, 1)"
      ]
     },
     "execution_count": 295,
     "metadata": {},
     "output_type": "execute_result"
    }
   ],
   "source": [
    "y.shape"
   ]
  },
  {
   "cell_type": "markdown",
   "metadata": {},
   "source": [
    "### Add the extra feature to the feature vector\n",
    "\n",
    "1. Add ones column to the X vector and name it as Xnew\n"
   ]
  },
  {
   "cell_type": "code",
   "execution_count": 296,
   "metadata": {
    "collapsed": false
   },
   "outputs": [],
   "source": [
    "ones = np.ones((47,1))\n",
    "Xnew = np.concatenate((ones,X),axis=1)"
   ]
  },
  {
   "cell_type": "code",
   "execution_count": 297,
   "metadata": {
    "collapsed": false
   },
   "outputs": [
    {
     "data": {
      "text/plain": [
       "(47, 2)"
      ]
     },
     "execution_count": 297,
     "metadata": {},
     "output_type": "execute_result"
    }
   ],
   "source": [
    "Xnew.shape"
   ]
  },
  {
   "cell_type": "code",
   "execution_count": 298,
   "metadata": {
    "collapsed": false
   },
   "outputs": [
    {
     "data": {
      "text/plain": [
       "array([[  1.00000000e+00,   2.10400000e+03],\n",
       "       [  1.00000000e+00,   1.60000000e+03],\n",
       "       [  1.00000000e+00,   2.40000000e+03],\n",
       "       [  1.00000000e+00,   1.41600000e+03],\n",
       "       [  1.00000000e+00,   3.00000000e+03],\n",
       "       [  1.00000000e+00,   1.98500000e+03],\n",
       "       [  1.00000000e+00,   1.53400000e+03],\n",
       "       [  1.00000000e+00,   1.42700000e+03],\n",
       "       [  1.00000000e+00,   1.38000000e+03],\n",
       "       [  1.00000000e+00,   1.49400000e+03],\n",
       "       [  1.00000000e+00,   1.94000000e+03],\n",
       "       [  1.00000000e+00,   2.00000000e+03],\n",
       "       [  1.00000000e+00,   1.89000000e+03],\n",
       "       [  1.00000000e+00,   4.47800000e+03],\n",
       "       [  1.00000000e+00,   1.26800000e+03],\n",
       "       [  1.00000000e+00,   2.30000000e+03],\n",
       "       [  1.00000000e+00,   1.32000000e+03],\n",
       "       [  1.00000000e+00,   1.23600000e+03],\n",
       "       [  1.00000000e+00,   2.60900000e+03],\n",
       "       [  1.00000000e+00,   3.03100000e+03],\n",
       "       [  1.00000000e+00,   1.76700000e+03],\n",
       "       [  1.00000000e+00,   1.88800000e+03],\n",
       "       [  1.00000000e+00,   1.60400000e+03],\n",
       "       [  1.00000000e+00,   1.96200000e+03],\n",
       "       [  1.00000000e+00,   3.89000000e+03],\n",
       "       [  1.00000000e+00,   1.10000000e+03],\n",
       "       [  1.00000000e+00,   1.45800000e+03],\n",
       "       [  1.00000000e+00,   2.52600000e+03],\n",
       "       [  1.00000000e+00,   2.20000000e+03],\n",
       "       [  1.00000000e+00,   2.63700000e+03],\n",
       "       [  1.00000000e+00,   1.83900000e+03],\n",
       "       [  1.00000000e+00,   1.00000000e+03],\n",
       "       [  1.00000000e+00,   2.04000000e+03],\n",
       "       [  1.00000000e+00,   3.13700000e+03],\n",
       "       [  1.00000000e+00,   1.81100000e+03],\n",
       "       [  1.00000000e+00,   1.43700000e+03],\n",
       "       [  1.00000000e+00,   1.23900000e+03],\n",
       "       [  1.00000000e+00,   2.13200000e+03],\n",
       "       [  1.00000000e+00,   4.21500000e+03],\n",
       "       [  1.00000000e+00,   2.16200000e+03],\n",
       "       [  1.00000000e+00,   1.66400000e+03],\n",
       "       [  1.00000000e+00,   2.23800000e+03],\n",
       "       [  1.00000000e+00,   2.56700000e+03],\n",
       "       [  1.00000000e+00,   1.20000000e+03],\n",
       "       [  1.00000000e+00,   8.52000000e+02],\n",
       "       [  1.00000000e+00,   1.85200000e+03],\n",
       "       [  1.00000000e+00,   1.20300000e+03]])"
      ]
     },
     "execution_count": 298,
     "metadata": {},
     "output_type": "execute_result"
    }
   ],
   "source": [
    "Xnew"
   ]
  },
  {
   "cell_type": "markdown",
   "metadata": {},
   "source": [
    "### Run normalEquation by passing new training matrix and labels vector\n",
    "\n",
    "### This will retun the Theta vector"
   ]
  },
  {
   "cell_type": "code",
   "execution_count": 299,
   "metadata": {
    "collapsed": false
   },
   "outputs": [],
   "source": [
    "Theta = normalEquation(Xnew,y)"
   ]
  },
  {
   "cell_type": "code",
   "execution_count": 300,
   "metadata": {
    "collapsed": false
   },
   "outputs": [
    {
     "data": {
      "text/plain": [
       "array([[ 71270.49244873],\n",
       "       [   134.52528772]])"
      ]
     },
     "execution_count": 300,
     "metadata": {},
     "output_type": "execute_result"
    }
   ],
   "source": [
    "Theta"
   ]
  },
  {
   "cell_type": "markdown",
   "metadata": {},
   "source": [
    "### Verify the results with Scikit-learn results"
   ]
  },
  {
   "cell_type": "code",
   "execution_count": 301,
   "metadata": {
    "collapsed": true
   },
   "outputs": [],
   "source": [
    "from sklearn import cross_validation\n",
    "from sklearn import datasets, linear_model"
   ]
  },
  {
   "cell_type": "code",
   "execution_count": 302,
   "metadata": {
    "collapsed": true
   },
   "outputs": [],
   "source": [
    "# Create linear regression object\n",
    "regr = linear_model.LinearRegression()"
   ]
  },
  {
   "cell_type": "code",
   "execution_count": 303,
   "metadata": {
    "collapsed": false
   },
   "outputs": [
    {
     "data": {
      "text/plain": [
       "LinearRegression(copy_X=True, fit_intercept=True, normalize=False)"
      ]
     },
     "execution_count": 303,
     "metadata": {},
     "output_type": "execute_result"
    }
   ],
   "source": [
    "regr.fit(X,y)"
   ]
  },
  {
   "cell_type": "code",
   "execution_count": 304,
   "metadata": {
    "collapsed": false
   },
   "outputs": [
    {
     "name": "stdout",
     "output_type": "stream",
     "text": [
      "[ 71270.49244873]\n",
      "[[ 134.52528772]]\n"
     ]
    }
   ],
   "source": [
    "print regr.intercept_\n",
    "print regr.coef_"
   ]
  },
  {
   "cell_type": "markdown",
   "metadata": {},
   "source": [
    "### Split the data into training and test datasets"
   ]
  },
  {
   "cell_type": "code",
   "execution_count": 305,
   "metadata": {
    "collapsed": true
   },
   "outputs": [],
   "source": [
    "X_train, X_test, y_train, y_test = cross_validation.train_test_split(X, y, test_size=0.20, random_state=10)"
   ]
  },
  {
   "cell_type": "code",
   "execution_count": 306,
   "metadata": {
    "collapsed": false
   },
   "outputs": [
    {
     "data": {
      "text/plain": [
       "(37, 1)"
      ]
     },
     "execution_count": 306,
     "metadata": {},
     "output_type": "execute_result"
    }
   ],
   "source": [
    "X_train.shape"
   ]
  },
  {
   "cell_type": "code",
   "execution_count": 307,
   "metadata": {
    "collapsed": false
   },
   "outputs": [
    {
     "data": {
      "text/plain": [
       "(37, 1)"
      ]
     },
     "execution_count": 307,
     "metadata": {},
     "output_type": "execute_result"
    }
   ],
   "source": [
    "y_train.shape"
   ]
  },
  {
   "cell_type": "code",
   "execution_count": 308,
   "metadata": {
    "collapsed": false
   },
   "outputs": [
    {
     "data": {
      "text/plain": [
       "(10, 1)"
      ]
     },
     "execution_count": 308,
     "metadata": {},
     "output_type": "execute_result"
    }
   ],
   "source": [
    "X_test.shape"
   ]
  },
  {
   "cell_type": "code",
   "execution_count": 309,
   "metadata": {
    "collapsed": false
   },
   "outputs": [
    {
     "data": {
      "text/plain": [
       "(10, 1)"
      ]
     },
     "execution_count": 309,
     "metadata": {},
     "output_type": "execute_result"
    }
   ],
   "source": [
    "y_test.shape"
   ]
  },
  {
   "cell_type": "markdown",
   "metadata": {},
   "source": [
    "### Run Linear Regression and evaluate the model\n",
    "\n",
    "1) Calculate the RMSE"
   ]
  },
  {
   "cell_type": "code",
   "execution_count": 311,
   "metadata": {
    "collapsed": false
   },
   "outputs": [
    {
     "data": {
      "text/plain": [
       "LinearRegression(copy_X=True, fit_intercept=True, normalize=False)"
      ]
     },
     "execution_count": 311,
     "metadata": {},
     "output_type": "execute_result"
    }
   ],
   "source": [
    "model1 = linear_model.LinearRegression()\n",
    "model1.fit(X_train,y_train)"
   ]
  },
  {
   "cell_type": "code",
   "execution_count": 312,
   "metadata": {
    "collapsed": false
   },
   "outputs": [],
   "source": [
    "import math\n",
    "RMSE = math.sqrt(np.mean((model1.predict(X_test) - y_test) ** 2))"
   ]
  },
  {
   "cell_type": "code",
   "execution_count": 313,
   "metadata": {
    "collapsed": false
   },
   "outputs": [
    {
     "name": "stdout",
     "output_type": "stream",
     "text": [
      "54573.8179417\n"
     ]
    }
   ],
   "source": [
    "print RMSE"
   ]
  },
  {
   "cell_type": "markdown",
   "metadata": {},
   "source": [
    "## 3. Linear Regression with multiple variables/features\n",
    "\n",
    "\n",
    "####1.   X = training features matrix \n",
    "####2.   y = training labels vector\n",
    "####3.   Theta = parameters vector\n",
    "\n",
    "Goal: Find theta parameters vector using Normal Equation Method on Least Squares Regression\n",
    "\n",
    "For this experiment, lets consider two features house_size and number_of_bedrooms to predict the price of house. \n"
   ]
  },
  {
   "cell_type": "code",
   "execution_count": 314,
   "metadata": {
    "collapsed": true
   },
   "outputs": [],
   "source": [
    "X = housingPricesData.iloc[:,[0,1]]\n",
    "y = housingPricesData.iloc[:,[2]]"
   ]
  },
  {
   "cell_type": "code",
   "execution_count": 315,
   "metadata": {
    "collapsed": false
   },
   "outputs": [
    {
     "data": {
      "text/plain": [
       "(47, 2)"
      ]
     },
     "execution_count": 315,
     "metadata": {},
     "output_type": "execute_result"
    }
   ],
   "source": [
    "X.shape"
   ]
  },
  {
   "cell_type": "code",
   "execution_count": 316,
   "metadata": {
    "collapsed": false
   },
   "outputs": [
    {
     "data": {
      "text/plain": [
       "(47, 1)"
      ]
     },
     "execution_count": 316,
     "metadata": {},
     "output_type": "execute_result"
    }
   ],
   "source": [
    "y.shape"
   ]
  },
  {
   "cell_type": "markdown",
   "metadata": {},
   "source": [
    "### Add the extra feature to the feature vector\n",
    "\n",
    "1. Add ones column to the X vector and name it as Xnew"
   ]
  },
  {
   "cell_type": "code",
   "execution_count": 317,
   "metadata": {
    "collapsed": true
   },
   "outputs": [],
   "source": [
    "ones = np.ones((47,1))\n",
    "Xnew = np.concatenate((ones,X),axis=1)"
   ]
  },
  {
   "cell_type": "code",
   "execution_count": 318,
   "metadata": {
    "collapsed": false
   },
   "outputs": [
    {
     "data": {
      "text/plain": [
       "(47, 3)"
      ]
     },
     "execution_count": 318,
     "metadata": {},
     "output_type": "execute_result"
    }
   ],
   "source": [
    "Xnew.shape"
   ]
  },
  {
   "cell_type": "code",
   "execution_count": 319,
   "metadata": {
    "collapsed": false
   },
   "outputs": [
    {
     "data": {
      "text/plain": [
       "array([[  1.00000000e+00,   2.10400000e+03,   3.00000000e+00],\n",
       "       [  1.00000000e+00,   1.60000000e+03,   3.00000000e+00],\n",
       "       [  1.00000000e+00,   2.40000000e+03,   3.00000000e+00],\n",
       "       [  1.00000000e+00,   1.41600000e+03,   2.00000000e+00],\n",
       "       [  1.00000000e+00,   3.00000000e+03,   4.00000000e+00],\n",
       "       [  1.00000000e+00,   1.98500000e+03,   4.00000000e+00],\n",
       "       [  1.00000000e+00,   1.53400000e+03,   3.00000000e+00],\n",
       "       [  1.00000000e+00,   1.42700000e+03,   3.00000000e+00],\n",
       "       [  1.00000000e+00,   1.38000000e+03,   3.00000000e+00],\n",
       "       [  1.00000000e+00,   1.49400000e+03,   3.00000000e+00],\n",
       "       [  1.00000000e+00,   1.94000000e+03,   4.00000000e+00],\n",
       "       [  1.00000000e+00,   2.00000000e+03,   3.00000000e+00],\n",
       "       [  1.00000000e+00,   1.89000000e+03,   3.00000000e+00],\n",
       "       [  1.00000000e+00,   4.47800000e+03,   5.00000000e+00],\n",
       "       [  1.00000000e+00,   1.26800000e+03,   3.00000000e+00],\n",
       "       [  1.00000000e+00,   2.30000000e+03,   4.00000000e+00],\n",
       "       [  1.00000000e+00,   1.32000000e+03,   2.00000000e+00],\n",
       "       [  1.00000000e+00,   1.23600000e+03,   3.00000000e+00],\n",
       "       [  1.00000000e+00,   2.60900000e+03,   4.00000000e+00],\n",
       "       [  1.00000000e+00,   3.03100000e+03,   4.00000000e+00],\n",
       "       [  1.00000000e+00,   1.76700000e+03,   3.00000000e+00],\n",
       "       [  1.00000000e+00,   1.88800000e+03,   2.00000000e+00],\n",
       "       [  1.00000000e+00,   1.60400000e+03,   3.00000000e+00],\n",
       "       [  1.00000000e+00,   1.96200000e+03,   4.00000000e+00],\n",
       "       [  1.00000000e+00,   3.89000000e+03,   3.00000000e+00],\n",
       "       [  1.00000000e+00,   1.10000000e+03,   3.00000000e+00],\n",
       "       [  1.00000000e+00,   1.45800000e+03,   3.00000000e+00],\n",
       "       [  1.00000000e+00,   2.52600000e+03,   3.00000000e+00],\n",
       "       [  1.00000000e+00,   2.20000000e+03,   3.00000000e+00],\n",
       "       [  1.00000000e+00,   2.63700000e+03,   3.00000000e+00],\n",
       "       [  1.00000000e+00,   1.83900000e+03,   2.00000000e+00],\n",
       "       [  1.00000000e+00,   1.00000000e+03,   1.00000000e+00],\n",
       "       [  1.00000000e+00,   2.04000000e+03,   4.00000000e+00],\n",
       "       [  1.00000000e+00,   3.13700000e+03,   3.00000000e+00],\n",
       "       [  1.00000000e+00,   1.81100000e+03,   4.00000000e+00],\n",
       "       [  1.00000000e+00,   1.43700000e+03,   3.00000000e+00],\n",
       "       [  1.00000000e+00,   1.23900000e+03,   3.00000000e+00],\n",
       "       [  1.00000000e+00,   2.13200000e+03,   4.00000000e+00],\n",
       "       [  1.00000000e+00,   4.21500000e+03,   4.00000000e+00],\n",
       "       [  1.00000000e+00,   2.16200000e+03,   4.00000000e+00],\n",
       "       [  1.00000000e+00,   1.66400000e+03,   2.00000000e+00],\n",
       "       [  1.00000000e+00,   2.23800000e+03,   3.00000000e+00],\n",
       "       [  1.00000000e+00,   2.56700000e+03,   4.00000000e+00],\n",
       "       [  1.00000000e+00,   1.20000000e+03,   3.00000000e+00],\n",
       "       [  1.00000000e+00,   8.52000000e+02,   2.00000000e+00],\n",
       "       [  1.00000000e+00,   1.85200000e+03,   4.00000000e+00],\n",
       "       [  1.00000000e+00,   1.20300000e+03,   3.00000000e+00]])"
      ]
     },
     "execution_count": 319,
     "metadata": {},
     "output_type": "execute_result"
    }
   ],
   "source": [
    "Xnew"
   ]
  },
  {
   "cell_type": "markdown",
   "metadata": {},
   "source": [
    "### Run normalEquation by passing new training matrix and labels vector\n",
    "\n",
    "### This will retun the Theta vector"
   ]
  },
  {
   "cell_type": "code",
   "execution_count": 320,
   "metadata": {
    "collapsed": true
   },
   "outputs": [],
   "source": [
    "Theta = normalEquation(Xnew,y)"
   ]
  },
  {
   "cell_type": "code",
   "execution_count": 321,
   "metadata": {
    "collapsed": false
   },
   "outputs": [
    {
     "data": {
      "text/plain": [
       "array([[ 89597.9095428 ],\n",
       "       [   139.21067402],\n",
       "       [ -8738.01911233]])"
      ]
     },
     "execution_count": 321,
     "metadata": {},
     "output_type": "execute_result"
    }
   ],
   "source": [
    "Theta"
   ]
  },
  {
   "cell_type": "markdown",
   "metadata": {},
   "source": [
    "### Verify the results with Scikit-learn results"
   ]
  },
  {
   "cell_type": "code",
   "execution_count": 322,
   "metadata": {
    "collapsed": true
   },
   "outputs": [],
   "source": [
    "regr_multipleFeatures = linear_model.LinearRegression()"
   ]
  },
  {
   "cell_type": "code",
   "execution_count": 323,
   "metadata": {
    "collapsed": false
   },
   "outputs": [
    {
     "data": {
      "text/plain": [
       "LinearRegression(copy_X=True, fit_intercept=True, normalize=False)"
      ]
     },
     "execution_count": 323,
     "metadata": {},
     "output_type": "execute_result"
    }
   ],
   "source": [
    "regr_multipleFeatures.fit(X,y)"
   ]
  },
  {
   "cell_type": "code",
   "execution_count": 324,
   "metadata": {
    "collapsed": false
   },
   "outputs": [
    {
     "name": "stdout",
     "output_type": "stream",
     "text": [
      "[ 89597.9095428]\n",
      "[[  139.21067402 -8738.01911233]]\n"
     ]
    }
   ],
   "source": [
    "print regr_multipleFeatures.intercept_\n",
    "print regr_multipleFeatures.coef_"
   ]
  },
  {
   "cell_type": "markdown",
   "metadata": {},
   "source": [
    "### Split the data into training and test datasets"
   ]
  },
  {
   "cell_type": "code",
   "execution_count": 325,
   "metadata": {
    "collapsed": true
   },
   "outputs": [],
   "source": [
    "X_train, X_test, y_train, y_test = cross_validation.train_test_split(X, y, test_size=0.20, random_state=11)"
   ]
  },
  {
   "cell_type": "code",
   "execution_count": 326,
   "metadata": {
    "collapsed": false
   },
   "outputs": [
    {
     "data": {
      "text/plain": [
       "(37, 2)"
      ]
     },
     "execution_count": 326,
     "metadata": {},
     "output_type": "execute_result"
    }
   ],
   "source": [
    "X_train.shape"
   ]
  },
  {
   "cell_type": "code",
   "execution_count": 327,
   "metadata": {
    "collapsed": false
   },
   "outputs": [
    {
     "data": {
      "text/plain": [
       "(37, 1)"
      ]
     },
     "execution_count": 327,
     "metadata": {},
     "output_type": "execute_result"
    }
   ],
   "source": [
    "y_train.shape"
   ]
  },
  {
   "cell_type": "code",
   "execution_count": 328,
   "metadata": {
    "collapsed": false
   },
   "outputs": [
    {
     "data": {
      "text/plain": [
       "(10, 2)"
      ]
     },
     "execution_count": 328,
     "metadata": {},
     "output_type": "execute_result"
    }
   ],
   "source": [
    "X_test.shape"
   ]
  },
  {
   "cell_type": "code",
   "execution_count": 329,
   "metadata": {
    "collapsed": false
   },
   "outputs": [
    {
     "data": {
      "text/plain": [
       "(10, 1)"
      ]
     },
     "execution_count": 329,
     "metadata": {},
     "output_type": "execute_result"
    }
   ],
   "source": [
    "y_test.shape"
   ]
  },
  {
   "cell_type": "markdown",
   "metadata": {},
   "source": [
    "### Run Linear Regression and evaluate the model\n",
    "\n",
    "1) Calculate the RMSE"
   ]
  },
  {
   "cell_type": "code",
   "execution_count": 330,
   "metadata": {
    "collapsed": false
   },
   "outputs": [
    {
     "data": {
      "text/plain": [
       "LinearRegression(copy_X=True, fit_intercept=True, normalize=False)"
      ]
     },
     "execution_count": 330,
     "metadata": {},
     "output_type": "execute_result"
    }
   ],
   "source": [
    "model2 = linear_model.LinearRegression()\n",
    "model2.fit(X_train,y_train)"
   ]
  },
  {
   "cell_type": "code",
   "execution_count": 331,
   "metadata": {
    "collapsed": false
   },
   "outputs": [
    {
     "name": "stdout",
     "output_type": "stream",
     "text": [
      "51309.0705831\n"
     ]
    }
   ],
   "source": [
    "import math\n",
    "RMSE = math.sqrt(np.mean((model2.predict(X_test) - y_test) ** 2))\n",
    "print RMSE"
   ]
  },
  {
   "cell_type": "markdown",
   "metadata": {},
   "source": [
    "### Plot actual values vs predicted values\n",
    "\n",
    "1. Create the y_predicted vector"
   ]
  },
  {
   "cell_type": "code",
   "execution_count": 345,
   "metadata": {
    "collapsed": true
   },
   "outputs": [],
   "source": [
    "y_predicted = model2.predict(X_test)"
   ]
  },
  {
   "cell_type": "code",
   "execution_count": 346,
   "metadata": {
    "collapsed": false
   },
   "outputs": [
    {
     "data": {
      "text/plain": [
       "array([2400, 1437, 1811, 1604, 1380, 1268, 1852, 1664, 1839, 2567])"
      ]
     },
     "execution_count": 346,
     "metadata": {},
     "output_type": "execute_result"
    }
   ],
   "source": [
    "X_test[:, 0]"
   ]
  },
  {
   "cell_type": "code",
   "execution_count": 347,
   "metadata": {
    "collapsed": false
   },
   "outputs": [
    {
     "data": {
      "image/png": "[encoded data removed]",
      "text/plain": [
       "<matplotlib.figure.Figure at 0x10c5ef9d0>"
      ]
     },
     "metadata": {},
     "output_type": "display_data"
    }
   ],
   "source": [
    "plt.scatter(X_test[:,0],y_test)\n",
    "plt.xlabel('Size of house (Square feet)')\n",
    "plt.ylabel('Price of house (Dollars)')\n",
    "plt.grid(True)\n",
    "plt.show()"
   ]
  },
  {
   "cell_type": "code",
   "execution_count": 344,
   "metadata": {
    "collapsed": false
   },
   "outputs": [
    {
     "data": {
      "image/png": "[encoded data removed]",
      "text/plain": [
       "<matplotlib.figure.Figure at 0x10c752c50>"
      ]
     },
     "metadata": {},
     "output_type": "display_data"
    }
   ],
   "source": [
    "plt.scatter(X_test[:,0],y_predicted)\n",
    "plt.xlabel('Size of house (Square feet)')\n",
    "plt.ylabel('Price of house (Dollars)')\n",
    "plt.grid(True)\n",
    "plt.show()"
   ]
  },
  {
   "cell_type": "code",
   "execution_count": null,
   "metadata": {
    "collapsed": true
   },
   "outputs": [],
   "source": []
  }
 ],
 "metadata": {
  "kernelspec": {
   "display_name": "Python 2",
   "language": "python",
   "name": "python2"
  },
  "language_info": {
   "codemirror_mode": {
    "name": "ipython",
    "version": 2
   },
   "file_extension": ".py",
   "mimetype": "text/x-python",
   "name": "python",
   "nbconvert_exporter": "python",
   "pygments_lexer": "ipython2",
   "version": "2.7.10"
  }
 },
 "nbformat": 4,
 "nbformat_minor": 0
}
